{
 "cells": [
  {
   "cell_type": "markdown",
   "id": "7e2e15a5",
   "metadata": {},
   "source": [
    "# Data Analysis for Lab3 Dataset"
   ]
  },
  {
   "cell_type": "markdown",
   "id": "26821cef",
   "metadata": {},
   "source": [
    "## Introduction\n",
    "In this section, we analyze the yield data for the month of March.\n",
    "We visualize the actual and predicted values to observe any discrepancies."
   ]
  },
  {
   "cell_type": "markdown",
   "id": "0c28cb8e",
   "metadata": {},
   "source": [
    "## Plotting Yield Data"
   ]
  },
  {
   "cell_type": "code",
   "execution_count": 15,
   "metadata": {},
   "outputs": [],
   "source": [
    "import pandas as pd\n",
    "import scipy.stats as stats\n",
    "import statsmodels.api as sm\n",
    "import statsmodels.formula.api as smf\n",
    "import numpy as np\n",
    "from lab_functions import run_experiment, add_noise_func"
   ]
  },
  {
   "cell_type": "code",
   "execution_count": 16,
   "metadata": {},
   "outputs": [
    {
     "name": "stdout",
     "output_type": "stream",
     "text": [
      "         low  center   high          label\n",
      "index                                     \n",
      "c       1.52     1.9   2.28  concentration\n",
      "T      24.08    30.1  36.12    Temperature\n"
     ]
    }
   ],
   "source": [
    "import pandas as pd\n",
    "\n",
    "# Define a dictionary to map input variable names to their descriptive labels\n",
    "inputs_labels = {\n",
    "    'c': 'concentration',\n",
    "    'T': 'Temperature'\n",
    "}\n",
    "\n",
    "# Define the initial values for concentration, temperature, and reaction rate\n",
    "c = 1.9  # mM (concentration)\n",
    "T = 30.1  # °C (temperature)\n",
    "rate = 4.46  # mole/s (reaction rate)\n",
    "\n",
    "# Create a list of tuples with each variable's low, center, and high values\n",
    "dat = [\n",
    "    ('c', 0.80 * c, c, 1.20 * c),  # Concentration: low is 80% of c, center is c, high is 120% of c\n",
    "    ('T', 0.80 * T, T, 1.20 * T)    # Temperature: low is 80% of T, center is T, high is 120% of T\n",
    "]\n",
    "\n",
    "# Create a Pandas DataFrame from the data list, specifying the column names\n",
    "inputs_df = pd.DataFrame(dat, columns=['index', 'low', 'center', 'high'])\n",
    "\n",
    "# Set the 'index' column as the DataFrame index for easier access\n",
    "inputs_df = inputs_df.set_index('index')\n",
    "\n",
    "# Map the variable labels to the DataFrame index, providing a default empty string for unmapped values\n",
    "inputs_df['label'] = inputs_df.index.map(lambda z: inputs_labels.get(z, ''))\n",
    "\n",
    "# Print the resulting DataFrame to display its contents\n",
    "print(inputs_df)"
   ]
  },
  {
   "cell_type": "code",
   "execution_count": 17,
   "metadata": {},
   "outputs": [
    {
     "data": {
      "text/html": [
       "<div>\n",
       "<style scoped>\n",
       "    .dataframe tbody tr th:only-of-type {\n",
       "        vertical-align: middle;\n",
       "    }\n",
       "\n",
       "    .dataframe tbody tr th {\n",
       "        vertical-align: top;\n",
       "    }\n",
       "\n",
       "    .dataframe thead th {\n",
       "        text-align: right;\n",
       "    }\n",
       "</style>\n",
       "<table border=\"1\" class=\"dataframe\">\n",
       "  <thead>\n",
       "    <tr style=\"text-align: right;\">\n",
       "      <th></th>\n",
       "      <th>low</th>\n",
       "      <th>center</th>\n",
       "      <th>high</th>\n",
       "      <th>label</th>\n",
       "      <th>encoded_low</th>\n",
       "      <th>encoded_center</th>\n",
       "      <th>encoded_high</th>\n",
       "    </tr>\n",
       "    <tr>\n",
       "      <th>index</th>\n",
       "      <th></th>\n",
       "      <th></th>\n",
       "      <th></th>\n",
       "      <th></th>\n",
       "      <th></th>\n",
       "      <th></th>\n",
       "      <th></th>\n",
       "    </tr>\n",
       "  </thead>\n",
       "  <tbody>\n",
       "    <tr>\n",
       "      <th>c</th>\n",
       "      <td>1.52</td>\n",
       "      <td>1.9</td>\n",
       "      <td>2.28</td>\n",
       "      <td>concentration</td>\n",
       "      <td>-1.0</td>\n",
       "      <td>0.0</td>\n",
       "      <td>1.0</td>\n",
       "    </tr>\n",
       "    <tr>\n",
       "      <th>T</th>\n",
       "      <td>24.08</td>\n",
       "      <td>30.1</td>\n",
       "      <td>36.12</td>\n",
       "      <td>Temperature</td>\n",
       "      <td>-1.0</td>\n",
       "      <td>0.0</td>\n",
       "      <td>1.0</td>\n",
       "    </tr>\n",
       "  </tbody>\n",
       "</table>\n",
       "</div>"
      ],
      "text/plain": [
       "         low  center   high          label  encoded_low  encoded_center  \\\n",
       "index                                                                     \n",
       "c       1.52     1.9   2.28  concentration         -1.0             0.0   \n",
       "T      24.08    30.1  36.12    Temperature         -1.0             0.0   \n",
       "\n",
       "       encoded_high  \n",
       "index                \n",
       "c               1.0  \n",
       "T               1.0  "
      ]
     },
     "execution_count": 17,
     "metadata": {},
     "output_type": "execute_result"
    }
   ],
   "source": [
    "# Compute the average and span for each variable in the inputs DataFrame\n",
    "# The average is calculated as the midpoint between 'low' and 'high' values\n",
    "inputs_df['average'] = inputs_df.apply(lambda z: (z['high'] + z['low']) / 2, axis=1)\n",
    "\n",
    "# The span is calculated as half the difference between 'high' and 'low' values\n",
    "inputs_df['span'] = inputs_df.apply(lambda z: (z['high'] - z['low']) / 2, axis=1)\n",
    "\n",
    "# Encode the data using standardized values for 'low', 'center', and 'high'\n",
    "# The encoding formula centers the data around the average and scales it by the span\n",
    "inputs_df['encoded_low'] = inputs_df.apply(lambda z: (z['low'] - z['average']) / z['span'], axis=1)\n",
    "inputs_df['encoded_center'] = inputs_df.apply(lambda z: (z['center'] - z['average']) / z['span'], axis=1)\n",
    "inputs_df['encoded_high'] = inputs_df.apply(lambda z: (z['high'] - z['average']) / z['span'], axis=1)\n",
    "\n",
    "# Drop the 'average' and 'span' columns as they are no longer needed for further analysis\n",
    "inputs_df = inputs_df.drop(['average', 'span'], axis=1)\n",
    "\n",
    "# Display the modified inputs DataFrame\n",
    "inputs_df\n"
   ]
  },
  {
   "cell_type": "code",
   "execution_count": 22,
   "metadata": {},
   "outputs": [
    {
     "name": "stdout",
     "output_type": "stream",
     "text": [
      "Initial encoded inputs: [(-1, -1), (-1, 1), (1, -1), (1, 1)]\n",
      "Updated encoded inputs: [(-1, -1), (-1, 1), (1, -1), (1, 1), (0, 0), (0, 0), (0, 0), (0, 0), (0, 0)]\n"
     ]
    }
   ],
   "source": [
    "import itertools\n",
    "\n",
    "# Generate all combinations of -1 and 1 for two variables using itertools.product\n",
    "encoded_inputs = list(itertools.product([-1, 1], [-1, 1]))\n",
    "\n",
    "# Print the initial combinations\n",
    "print(\"Initial encoded inputs:\", encoded_inputs)\n",
    "\n",
    "# Append the tuple (0, 0) five times to the list of encoded inputs\n",
    "for i in range(0, 5):\n",
    "    encoded_inputs.append((0, 0))\n",
    "\n",
    "# Print the updated list of encoded inputs after appending (0, 0)\n",
    "print(\"Updated encoded inputs:\", encoded_inputs)"
   ]
  },
  {
   "cell_type": "code",
   "execution_count": 25,
   "metadata": {},
   "outputs": [
    {
     "name": "stdout",
     "output_type": "stream",
     "text": [
      "   c  T\n",
      "0 -1 -1\n",
      "1  1 -1\n",
      "2 -1  1\n",
      "3  1  1\n",
      "4  0  0\n",
      "5  0  0\n",
      "6  0  0\n",
      "7  0  0\n",
      "8  0  0\n"
     ]
    }
   ],
   "source": [
    "# Create a DataFrame from the list of encoded inputs\n",
    "results = pd.DataFrame(encoded_inputs)\n",
    "\n",
    "# Reverse the order of the columns in the DataFrame\n",
    "results = results[results.columns[::-1]]\n",
    "\n",
    "# Rename the columns to 't' for the first column and 'T' for the second column\n",
    "results.columns = ['c', 'T']\n",
    "\n",
    "# Display the resulting DataFrame\n",
    "print(results)"
   ]
  },
  {
   "cell_type": "code",
   "execution_count": 26,
   "metadata": {},
   "outputs": [
    {
     "name": "stdout",
     "output_type": "stream",
     "text": [
      "The values of each real variable in the experiment:\n",
      "   concentration  Temperature\n",
      "0           1.52        24.08\n",
      "1           2.28        24.08\n",
      "2           1.52        36.12\n",
      "3           2.28        36.12\n",
      "4           1.90        30.10\n",
      "5           1.90        30.10\n",
      "6           1.90        30.10\n",
      "7           1.90        30.10\n",
      "8           1.90        30.10\n"
     ]
    }
   ],
   "source": [
    "# def parse_values(x):\n",
    "#     if x < 2:\n",
    "#        return x * 10\n",
    "#     elif x < 4:\n",
    "#        return x ** 2\n",
    "#     else:\n",
    "#        return x + 10\n",
    "\n",
    "\n",
    "# Create a copy of results for real_experiment\n",
    "real_experiment = results.copy()\n",
    "var_labels = []\n",
    "\n",
    "# Loop through the existing variables in inputs_df\n",
    "for var in inputs_df.index:\n",
    "    # Get the label for the variable\n",
    "    var_label = inputs_df.loc[var]['label']\n",
    "    var_labels.append(var_label)\n",
    "    \n",
    "    # Apply the function to create a new column based on conditions\n",
    "    real_experiment[var_label] = results.apply(\n",
    "        lambda z: inputs_df.loc[var]['low'] if z[var] < 0 else \n",
    "                   (inputs_df.loc[var]['high'] if z[var] > 0 else \n",
    "                    inputs_df.loc[var]['center']),\n",
    "        axis=1\n",
    "    )\n",
    "\n",
    "# Print the values of each real variable in the experiment\n",
    "print(\"The values of each real variable in the experiment:\")\n",
    "print(real_experiment[var_labels])\n"
   ]
  },
  {
   "cell_type": "markdown",
   "metadata": {},
   "source": [
    "**EXPERIMENT**"
   ]
  },
  {
   "cell_type": "code",
   "execution_count": 27,
   "metadata": {},
   "outputs": [
    {
     "data": {
      "text/html": [
       "<div>\n",
       "<style scoped>\n",
       "    .dataframe tbody tr th:only-of-type {\n",
       "        vertical-align: middle;\n",
       "    }\n",
       "\n",
       "    .dataframe tbody tr th {\n",
       "        vertical-align: top;\n",
       "    }\n",
       "\n",
       "    .dataframe thead th {\n",
       "        text-align: right;\n",
       "    }\n",
       "</style>\n",
       "<table border=\"1\" class=\"dataframe\">\n",
       "  <thead>\n",
       "    <tr style=\"text-align: right;\">\n",
       "      <th></th>\n",
       "      <th>c</th>\n",
       "      <th>T</th>\n",
       "      <th>y</th>\n",
       "    </tr>\n",
       "  </thead>\n",
       "  <tbody>\n",
       "    <tr>\n",
       "      <th>0</th>\n",
       "      <td>-1</td>\n",
       "      <td>-1</td>\n",
       "      <td>39.3</td>\n",
       "    </tr>\n",
       "    <tr>\n",
       "      <th>1</th>\n",
       "      <td>1</td>\n",
       "      <td>-1</td>\n",
       "      <td>40.9</td>\n",
       "    </tr>\n",
       "    <tr>\n",
       "      <th>2</th>\n",
       "      <td>-1</td>\n",
       "      <td>1</td>\n",
       "      <td>40.0</td>\n",
       "    </tr>\n",
       "    <tr>\n",
       "      <th>3</th>\n",
       "      <td>1</td>\n",
       "      <td>1</td>\n",
       "      <td>41.5</td>\n",
       "    </tr>\n",
       "    <tr>\n",
       "      <th>4</th>\n",
       "      <td>0</td>\n",
       "      <td>0</td>\n",
       "      <td>40.3</td>\n",
       "    </tr>\n",
       "    <tr>\n",
       "      <th>5</th>\n",
       "      <td>0</td>\n",
       "      <td>0</td>\n",
       "      <td>40.5</td>\n",
       "    </tr>\n",
       "    <tr>\n",
       "      <th>6</th>\n",
       "      <td>0</td>\n",
       "      <td>0</td>\n",
       "      <td>40.7</td>\n",
       "    </tr>\n",
       "    <tr>\n",
       "      <th>7</th>\n",
       "      <td>0</td>\n",
       "      <td>0</td>\n",
       "      <td>40.2</td>\n",
       "    </tr>\n",
       "    <tr>\n",
       "      <th>8</th>\n",
       "      <td>0</td>\n",
       "      <td>0</td>\n",
       "      <td>40.6</td>\n",
       "    </tr>\n",
       "  </tbody>\n",
       "</table>\n",
       "</div>"
      ],
      "text/plain": [
       "   c  T     y\n",
       "0 -1 -1  39.3\n",
       "1  1 -1  40.9\n",
       "2 -1  1  40.0\n",
       "3  1  1  41.5\n",
       "4  0  0  40.3\n",
       "5  0  0  40.5\n",
       "6  0  0  40.7\n",
       "7  0  0  40.2\n",
       "8  0  0  40.6"
      ]
     },
     "execution_count": 27,
     "metadata": {},
     "output_type": "execute_result"
    }
   ],
   "source": [
    "y= [39.3, 40.9, 40.0, 41.5, 40.3, 40.5, 40.7, 40.2, 40.6]\n",
    "results['y']= y\n",
    "results"
   ]
  },
  {
   "cell_type": "code",
   "execution_count": null,
   "metadata": {},
   "outputs": [],
   "source": [
    "# Data , 4 corners and 5 center points:\n",
    "\n",
    "df = pd.DataFrame(results,columns=['t','T','y'])\n",
    "#inputs_df = inputs_df.set_index(['index'])\n",
    "\n",
    "#print dataframe\n",
    "df"
   ]
  },
  {
   "cell_type": "code",
   "execution_count": null,
   "metadata": {},
   "outputs": [],
   "source": [
    "# Compute the mean effect of the factor on the response,\n",
    "# conditioned on each variable\n",
    "labels = ['t','T']\n",
    "print('ybar is', results['y'].mean())\n",
    "main_effects = {}\n",
    "\n",
    "print('main effects')\n",
    "for key in labels:\n",
    "        average_effects = results.groupby(key)['y'].mean()\n",
    "        main_effects[key] = sum( [i*average_effects[i] for i in [-1,1]])\n",
    "print(main_effects)"
   ]
  },
  {
   "cell_type": "code",
   "execution_count": null,
   "metadata": {},
   "outputs": [],
   "source": [
    "import itertools\n",
    "\n",
    "twoway_labels = list(itertools.combinations(labels, 2))\n",
    "\n",
    "\n",
    "twoway_effects = {}\n",
    "for key in twoway_labels:\n",
    "\n",
    "    effects = results.groupby([key[0],key[1]])['y'].mean()\n",
    "\n",
    "    twoway_effects[key] = sum([ i*j*effects[i][j]/2 for i in [-1,1] for j in [-1,1] ])\n",
    "twoway_effects"
   ]
  },
  {
   "cell_type": "code",
   "execution_count": null,
   "metadata": {},
   "outputs": [],
   "source": [
    "y1 = results['y']\n",
    "xlabs=['t','T']\n",
    "x = results[xlabs]\n",
    "\n",
    "\n",
    "res1 = smf.ols(formula='y ~ t + T + t:T', data=results).fit()\n",
    "\n",
    "res1.summary()"
   ]
  },
  {
   "cell_type": "code",
   "execution_count": null,
   "metadata": {},
   "outputs": [],
   "source": [
    "#est1 = sm.OLS(y1,x).fit()\n",
    "res1 = smf.ols(formula='y ~ t + T', data=results).fit()\n",
    "print(res1.summary())"
   ]
  },
  {
   "cell_type": "code",
   "execution_count": null,
   "metadata": {},
   "outputs": [],
   "source": [
    "# Plotting data for the 'March' DataFrame\n",
    "# The plot shows actual data ('y') and predicted data ('ypred')\n",
    "ax=March['y'].plot()\n",
    "ax=March['ypred'].plot()\n",
    "ax.set_xlabel('step')  # Set x-axis label as 'step'\n",
    "ax.set_ylabel('Yield')  # Set y-axis label as 'Yield'\n"
   ]
  },
  {
   "cell_type": "code",
   "execution_count": null,
   "metadata": {},
   "outputs": [],
   "source": [
    "# Plotting data for the 'March' DataFrame\n",
    "# The plot shows actual data ('y') and predicted data ('ypred')\n",
    "ax=March['y'].plot()\n",
    "ax=March['ypred'].plot()\n",
    "ax.set_xlabel('step')  # Set x-axis label as 'step'\n",
    "ax.set_ylabel('Yield')  # Set y-axis label as 'Yield'\n"
   ]
  }
 ],
 "metadata": {
  "kernelspec": {
   "display_name": "dhenv",
   "language": "python",
   "name": "python3"
  },
  "language_info": {
   "codemirror_mode": {
    "name": "ipython",
    "version": 3
   },
   "file_extension": ".py",
   "mimetype": "text/x-python",
   "name": "python",
   "nbconvert_exporter": "python",
   "pygments_lexer": "ipython3",
   "version": "3.10.15"
  }
 },
 "nbformat": 4,
 "nbformat_minor": 2
}
