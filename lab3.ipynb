{
 "cells": [
  {
   "cell_type": "markdown",
   "id": "7e2e15a5",
   "metadata": {},
   "source": [
    "# Data Analysis for Lab3 Dataset"
   ]
  },
  {
   "cell_type": "markdown",
   "id": "26821cef",
   "metadata": {},
   "source": [
    "## Introduction\n",
    "In this section, we analyze the yield data for the month of March.\n",
    "We visualize the actual and predicted values to observe any discrepancies."
   ]
  },
  {
   "cell_type": "markdown",
   "id": "0c28cb8e",
   "metadata": {},
   "source": [
    "## Plotting Yield Data"
   ]
  },
  {
   "cell_type": "code",
   "execution_count": 1,
   "metadata": {},
   "outputs": [],
   "source": [
    "import pandas as pd\n",
    "import scipy.stats as stats\n",
    "import statsmodels.api as sm\n",
    "import statsmodels.formula.api as smf\n",
    "import numpy as np\n"
   ]
  },
  {
   "cell_type": "markdown",
   "metadata": {},
   "source": [
    "## Basic values"
   ]
  },
  {
   "cell_type": "code",
   "execution_count": null,
   "metadata": {},
   "outputs": [],
   "source": [
    "# Define a dictionary to map input variable names to their descriptive labels\n",
    "inputs_labels = {\n",
    "    'c': 'concentration',\n",
    "    'T': 'Temperature'\n",
    "}\n",
    "\n",
    "# Define the initial values for concentration, temperature, and reaction rate\n",
    "c = 2.0  # mM (concentration)\n",
    "T = 25.0  # °C (temperature)\n",
    "rate = 5.77  # mole/s (reaction rate)"
   ]
  },
  {
   "cell_type": "markdown",
   "metadata": {},
   "source": [
    "## Value intervals"
   ]
  },
  {
   "cell_type": "code",
   "execution_count": 12,
   "metadata": {},
   "outputs": [
    {
     "name": "stdout",
     "output_type": "stream",
     "text": [
      "        low  center  high          label\n",
      "index                                   \n",
      "c       1.6     2.0   2.4  concentration\n",
      "T      20.0    25.0  30.0    Temperature\n"
     ]
    }
   ],
   "source": [
    "# Create a list of tuples with each variable's low, center, and high values\n",
    "dat = [\n",
    "    ('c', 0.80 * c, c, 1.20 * c),  # Concentration: low is 80% of c, center is c, high is 120% of c\n",
    "    ('T', 0.80 * T, T, 1.20 * T)    # Temperature: low is 80% of T, center is T, high is 120% of T\n",
    "]\n",
    "\n",
    "# Create a Pandas DataFrame from the data list, specifying the column names\n",
    "inputs_df = pd.DataFrame(dat, columns=['index', 'low', 'center', 'high'])\n",
    "\n",
    "# Set the 'index' column as the DataFrame index for easier access\n",
    "inputs_df = inputs_df.set_index('index')\n",
    "\n",
    "# Map the variable labels to the DataFrame index, providing a default empty string for unmapped values\n",
    "inputs_df['label'] = inputs_df.index.map(lambda z: inputs_labels.get(z, ''))\n",
    "\n",
    "# Print the resulting DataFrame to display its contents\n",
    "print(inputs_df)\n",
    "\n",
    "from computing import computing\n",
    "\n",
    "real_experiment, results = computing(inputs_df)\n",
    "\n",
    "c_array  = real_experiment['concentration']\n",
    "T_array = real_experiment['Temperature']"
   ]
  },
  {
   "cell_type": "markdown",
   "metadata": {},
   "source": [
    "**EXPERIMENT**"
   ]
  },
  {
   "cell_type": "code",
   "execution_count": 13,
   "metadata": {},
   "outputs": [
    {
     "data": {
      "text/html": [
       "<div>\n",
       "<style scoped>\n",
       "    .dataframe tbody tr th:only-of-type {\n",
       "        vertical-align: middle;\n",
       "    }\n",
       "\n",
       "    .dataframe tbody tr th {\n",
       "        vertical-align: top;\n",
       "    }\n",
       "\n",
       "    .dataframe thead th {\n",
       "        text-align: right;\n",
       "    }\n",
       "</style>\n",
       "<table border=\"1\" class=\"dataframe\">\n",
       "  <thead>\n",
       "    <tr style=\"text-align: right;\">\n",
       "      <th></th>\n",
       "      <th>c</th>\n",
       "      <th>T</th>\n",
       "      <th>y</th>\n",
       "    </tr>\n",
       "  </thead>\n",
       "  <tbody>\n",
       "    <tr>\n",
       "      <th>0</th>\n",
       "      <td>-1</td>\n",
       "      <td>-1</td>\n",
       "      <td>4.093000</td>\n",
       "    </tr>\n",
       "    <tr>\n",
       "      <th>1</th>\n",
       "      <td>1</td>\n",
       "      <td>-1</td>\n",
       "      <td>4.778272</td>\n",
       "    </tr>\n",
       "    <tr>\n",
       "      <th>2</th>\n",
       "      <td>-1</td>\n",
       "      <td>1</td>\n",
       "      <td>6.403140</td>\n",
       "    </tr>\n",
       "    <tr>\n",
       "      <th>3</th>\n",
       "      <td>1</td>\n",
       "      <td>1</td>\n",
       "      <td>8.199982</td>\n",
       "    </tr>\n",
       "    <tr>\n",
       "      <th>4</th>\n",
       "      <td>0</td>\n",
       "      <td>0</td>\n",
       "      <td>5.847008</td>\n",
       "    </tr>\n",
       "    <tr>\n",
       "      <th>5</th>\n",
       "      <td>0</td>\n",
       "      <td>0</td>\n",
       "      <td>5.695005</td>\n",
       "    </tr>\n",
       "    <tr>\n",
       "      <th>6</th>\n",
       "      <td>0</td>\n",
       "      <td>0</td>\n",
       "      <td>5.584338</td>\n",
       "    </tr>\n",
       "    <tr>\n",
       "      <th>7</th>\n",
       "      <td>0</td>\n",
       "      <td>0</td>\n",
       "      <td>5.806999</td>\n",
       "    </tr>\n",
       "    <tr>\n",
       "      <th>8</th>\n",
       "      <td>0</td>\n",
       "      <td>0</td>\n",
       "      <td>5.814771</td>\n",
       "    </tr>\n",
       "  </tbody>\n",
       "</table>\n",
       "</div>"
      ],
      "text/plain": [
       "   c  T         y\n",
       "0 -1 -1  4.093000\n",
       "1  1 -1  4.778272\n",
       "2 -1  1  6.403140\n",
       "3  1  1  8.199982\n",
       "4  0  0  5.847008\n",
       "5  0  0  5.695005\n",
       "6  0  0  5.584338\n",
       "7  0  0  5.806999\n",
       "8  0  0  5.814771"
      ]
     },
     "execution_count": 13,
     "metadata": {},
     "output_type": "execute_result"
    }
   ],
   "source": [
    "y=[4.093000401645197,4.77827155867177,6.403139782334854,8.199982171532273,5.847007863003852,5.695005284140945,5.584338442337459,5.806999272226782,5.814771183739139]\n",
    "\n",
    "results['y']= y\n",
    "results"
   ]
  },
  {
   "cell_type": "code",
   "execution_count": 15,
   "metadata": {},
   "outputs": [
    {
     "data": {
      "text/html": [
       "<div>\n",
       "<style scoped>\n",
       "    .dataframe tbody tr th:only-of-type {\n",
       "        vertical-align: middle;\n",
       "    }\n",
       "\n",
       "    .dataframe tbody tr th {\n",
       "        vertical-align: top;\n",
       "    }\n",
       "\n",
       "    .dataframe thead th {\n",
       "        text-align: right;\n",
       "    }\n",
       "</style>\n",
       "<table border=\"1\" class=\"dataframe\">\n",
       "  <thead>\n",
       "    <tr style=\"text-align: right;\">\n",
       "      <th></th>\n",
       "      <th>c</th>\n",
       "      <th>T</th>\n",
       "      <th>y</th>\n",
       "    </tr>\n",
       "  </thead>\n",
       "  <tbody>\n",
       "    <tr>\n",
       "      <th>0</th>\n",
       "      <td>-1</td>\n",
       "      <td>-1</td>\n",
       "      <td>4.093000</td>\n",
       "    </tr>\n",
       "    <tr>\n",
       "      <th>1</th>\n",
       "      <td>1</td>\n",
       "      <td>-1</td>\n",
       "      <td>4.778272</td>\n",
       "    </tr>\n",
       "    <tr>\n",
       "      <th>2</th>\n",
       "      <td>-1</td>\n",
       "      <td>1</td>\n",
       "      <td>6.403140</td>\n",
       "    </tr>\n",
       "    <tr>\n",
       "      <th>3</th>\n",
       "      <td>1</td>\n",
       "      <td>1</td>\n",
       "      <td>8.199982</td>\n",
       "    </tr>\n",
       "    <tr>\n",
       "      <th>4</th>\n",
       "      <td>0</td>\n",
       "      <td>0</td>\n",
       "      <td>5.847008</td>\n",
       "    </tr>\n",
       "    <tr>\n",
       "      <th>5</th>\n",
       "      <td>0</td>\n",
       "      <td>0</td>\n",
       "      <td>5.695005</td>\n",
       "    </tr>\n",
       "    <tr>\n",
       "      <th>6</th>\n",
       "      <td>0</td>\n",
       "      <td>0</td>\n",
       "      <td>5.584338</td>\n",
       "    </tr>\n",
       "    <tr>\n",
       "      <th>7</th>\n",
       "      <td>0</td>\n",
       "      <td>0</td>\n",
       "      <td>5.806999</td>\n",
       "    </tr>\n",
       "    <tr>\n",
       "      <th>8</th>\n",
       "      <td>0</td>\n",
       "      <td>0</td>\n",
       "      <td>5.814771</td>\n",
       "    </tr>\n",
       "  </tbody>\n",
       "</table>\n",
       "</div>"
      ],
      "text/plain": [
       "   c  T         y\n",
       "0 -1 -1  4.093000\n",
       "1  1 -1  4.778272\n",
       "2 -1  1  6.403140\n",
       "3  1  1  8.199982\n",
       "4  0  0  5.847008\n",
       "5  0  0  5.695005\n",
       "6  0  0  5.584338\n",
       "7  0  0  5.806999\n",
       "8  0  0  5.814771"
      ]
     },
     "execution_count": 15,
     "metadata": {},
     "output_type": "execute_result"
    }
   ],
   "source": [
    "# Data , 4 corners and 5 center points:\n",
    "\n",
    "df = pd.DataFrame(results,columns=['c','T','y'])\n",
    "#inputs_df = inputs_df.set_index(['index'])\n",
    "\n",
    "#print dataframe\n",
    "df"
   ]
  },
  {
   "cell_type": "code",
   "execution_count": 16,
   "metadata": {},
   "outputs": [
    {
     "name": "stdout",
     "output_type": "stream",
     "text": [
      "ybar is 5.802501773292475\n",
      "main effects\n",
      "{'c': np.float64(1.2410567731119961), 'T': np.float64(2.86592499677508)}\n"
     ]
    }
   ],
   "source": [
    "# Compute the mean effect of the factor on the response,\n",
    "# conditioned on each variable\n",
    "labels = ['c','T']\n",
    "print('ybar is', results['y'].mean())\n",
    "main_effects = {}\n",
    "\n",
    "print('main effects')\n",
    "for key in labels:\n",
    "        average_effects = results.groupby(key)['y'].mean()\n",
    "        main_effects[key] = sum( [i*average_effects[i] for i in [-1,1]])\n",
    "print(main_effects)"
   ]
  },
  {
   "cell_type": "code",
   "execution_count": 17,
   "metadata": {},
   "outputs": [
    {
     "data": {
      "text/plain": [
       "{('c', 'T'): np.float64(0.5557856160854229)}"
      ]
     },
     "execution_count": 17,
     "metadata": {},
     "output_type": "execute_result"
    }
   ],
   "source": [
    "import itertools\n",
    "\n",
    "twoway_labels = list(itertools.combinations(labels, 2))\n",
    "\n",
    "\n",
    "twoway_effects = {}\n",
    "for key in twoway_labels:\n",
    "\n",
    "    effects = results.groupby([key[0],key[1]])['y'].mean()\n",
    "\n",
    "    twoway_effects[key] = sum([ i*j*effects[i][j]/2 for i in [-1,1] for j in [-1,1] ])\n",
    "twoway_effects"
   ]
  },
  {
   "cell_type": "code",
   "execution_count": 7,
   "metadata": {},
   "outputs": [
    {
     "name": "stderr",
     "output_type": "stream",
     "text": [
      "/home/oscar/miniconda3/envs/dhenv/lib/python3.10/site-packages/scipy/stats/_axis_nan_policy.py:418: UserWarning: `kurtosistest` p-value may be inaccurate with fewer than 20 observations; only n=9 observations were given.\n",
      "  return hypotest_fun_in(*args, **kwds)\n"
     ]
    },
    {
     "data": {
      "text/html": [
       "<table class=\"simpletable\">\n",
       "<caption>OLS Regression Results</caption>\n",
       "<tr>\n",
       "  <th>Dep. Variable:</th>            <td>y</td>        <th>  R-squared:         </th> <td>   0.992</td>\n",
       "</tr>\n",
       "<tr>\n",
       "  <th>Model:</th>                   <td>OLS</td>       <th>  Adj. R-squared:    </th> <td>   0.988</td>\n",
       "</tr>\n",
       "<tr>\n",
       "  <th>Method:</th>             <td>Least Squares</td>  <th>  F-statistic:       </th> <td>   212.9</td>\n",
       "</tr>\n",
       "<tr>\n",
       "  <th>Date:</th>             <td>Tue, 08 Oct 2024</td> <th>  Prob (F-statistic):</th> <td>1.08e-05</td>\n",
       "</tr>\n",
       "<tr>\n",
       "  <th>Time:</th>                 <td>09:19:15</td>     <th>  Log-Likelihood:    </th> <td>  8.5521</td>\n",
       "</tr>\n",
       "<tr>\n",
       "  <th>No. Observations:</th>      <td>     9</td>      <th>  AIC:               </th> <td>  -9.104</td>\n",
       "</tr>\n",
       "<tr>\n",
       "  <th>Df Residuals:</th>          <td>     5</td>      <th>  BIC:               </th> <td>  -8.315</td>\n",
       "</tr>\n",
       "<tr>\n",
       "  <th>Df Model:</th>              <td>     3</td>      <th>                     </th>     <td> </td>   \n",
       "</tr>\n",
       "<tr>\n",
       "  <th>Covariance Type:</th>      <td>nonrobust</td>    <th>                     </th>     <td> </td>   \n",
       "</tr>\n",
       "</table>\n",
       "<table class=\"simpletable\">\n",
       "<tr>\n",
       "      <td></td>         <th>coef</th>     <th>std err</th>      <th>t</th>      <th>P>|t|</th>  <th>[0.025</th>    <th>0.975]</th>  \n",
       "</tr>\n",
       "<tr>\n",
       "  <th>Intercept</th> <td>    5.8025</td> <td>    0.042</td> <td>  138.682</td> <td> 0.000</td> <td>    5.695</td> <td>    5.910</td>\n",
       "</tr>\n",
       "<tr>\n",
       "  <th>c</th>         <td>    0.6205</td> <td>    0.063</td> <td>    9.887</td> <td> 0.000</td> <td>    0.459</td> <td>    0.782</td>\n",
       "</tr>\n",
       "<tr>\n",
       "  <th>T</th>         <td>    1.4330</td> <td>    0.063</td> <td>   22.832</td> <td> 0.000</td> <td>    1.272</td> <td>    1.594</td>\n",
       "</tr>\n",
       "<tr>\n",
       "  <th>c:T</th>       <td>    0.2779</td> <td>    0.063</td> <td>    4.428</td> <td> 0.007</td> <td>    0.117</td> <td>    0.439</td>\n",
       "</tr>\n",
       "</table>\n",
       "<table class=\"simpletable\">\n",
       "<tr>\n",
       "  <th>Omnibus:</th>       <td> 7.690</td> <th>  Durbin-Watson:     </th> <td>   1.085</td>\n",
       "</tr>\n",
       "<tr>\n",
       "  <th>Prob(Omnibus):</th> <td> 0.021</td> <th>  Jarque-Bera (JB):  </th> <td>   3.108</td>\n",
       "</tr>\n",
       "<tr>\n",
       "  <th>Skew:</th>          <td>-1.408</td> <th>  Prob(JB):          </th> <td>   0.211</td>\n",
       "</tr>\n",
       "<tr>\n",
       "  <th>Kurtosis:</th>      <td> 3.595</td> <th>  Cond. No.          </th> <td>    1.50</td>\n",
       "</tr>\n",
       "</table><br/><br/>Notes:<br/>[1] Standard Errors assume that the covariance matrix of the errors is correctly specified."
      ],
      "text/latex": [
       "\\begin{center}\n",
       "\\begin{tabular}{lclc}\n",
       "\\toprule\n",
       "\\textbf{Dep. Variable:}    &        y         & \\textbf{  R-squared:         } &     0.992   \\\\\n",
       "\\textbf{Model:}            &       OLS        & \\textbf{  Adj. R-squared:    } &     0.988   \\\\\n",
       "\\textbf{Method:}           &  Least Squares   & \\textbf{  F-statistic:       } &     212.9   \\\\\n",
       "\\textbf{Date:}             & Tue, 08 Oct 2024 & \\textbf{  Prob (F-statistic):} &  1.08e-05   \\\\\n",
       "\\textbf{Time:}             &     09:19:15     & \\textbf{  Log-Likelihood:    } &    8.5521   \\\\\n",
       "\\textbf{No. Observations:} &           9      & \\textbf{  AIC:               } &    -9.104   \\\\\n",
       "\\textbf{Df Residuals:}     &           5      & \\textbf{  BIC:               } &    -8.315   \\\\\n",
       "\\textbf{Df Model:}         &           3      & \\textbf{                     } &             \\\\\n",
       "\\textbf{Covariance Type:}  &    nonrobust     & \\textbf{                     } &             \\\\\n",
       "\\bottomrule\n",
       "\\end{tabular}\n",
       "\\begin{tabular}{lcccccc}\n",
       "                   & \\textbf{coef} & \\textbf{std err} & \\textbf{t} & \\textbf{P$> |$t$|$} & \\textbf{[0.025} & \\textbf{0.975]}  \\\\\n",
       "\\midrule\n",
       "\\textbf{Intercept} &       5.8025  &        0.042     &   138.682  &         0.000        &        5.695    &        5.910     \\\\\n",
       "\\textbf{c}         &       0.6205  &        0.063     &     9.887  &         0.000        &        0.459    &        0.782     \\\\\n",
       "\\textbf{T}         &       1.4330  &        0.063     &    22.832  &         0.000        &        1.272    &        1.594     \\\\\n",
       "\\textbf{c:T}       &       0.2779  &        0.063     &     4.428  &         0.007        &        0.117    &        0.439     \\\\\n",
       "\\bottomrule\n",
       "\\end{tabular}\n",
       "\\begin{tabular}{lclc}\n",
       "\\textbf{Omnibus:}       &  7.690 & \\textbf{  Durbin-Watson:     } &    1.085  \\\\\n",
       "\\textbf{Prob(Omnibus):} &  0.021 & \\textbf{  Jarque-Bera (JB):  } &    3.108  \\\\\n",
       "\\textbf{Skew:}          & -1.408 & \\textbf{  Prob(JB):          } &    0.211  \\\\\n",
       "\\textbf{Kurtosis:}      &  3.595 & \\textbf{  Cond. No.          } &     1.50  \\\\\n",
       "\\bottomrule\n",
       "\\end{tabular}\n",
       "%\\caption{OLS Regression Results}\n",
       "\\end{center}\n",
       "\n",
       "Notes: \\newline\n",
       " [1] Standard Errors assume that the covariance matrix of the errors is correctly specified."
      ],
      "text/plain": [
       "<class 'statsmodels.iolib.summary.Summary'>\n",
       "\"\"\"\n",
       "                            OLS Regression Results                            \n",
       "==============================================================================\n",
       "Dep. Variable:                      y   R-squared:                       0.992\n",
       "Model:                            OLS   Adj. R-squared:                  0.988\n",
       "Method:                 Least Squares   F-statistic:                     212.9\n",
       "Date:                Tue, 08 Oct 2024   Prob (F-statistic):           1.08e-05\n",
       "Time:                        09:19:15   Log-Likelihood:                 8.5521\n",
       "No. Observations:                   9   AIC:                            -9.104\n",
       "Df Residuals:                       5   BIC:                            -8.315\n",
       "Df Model:                           3                                         \n",
       "Covariance Type:            nonrobust                                         \n",
       "==============================================================================\n",
       "                 coef    std err          t      P>|t|      [0.025      0.975]\n",
       "------------------------------------------------------------------------------\n",
       "Intercept      5.8025      0.042    138.682      0.000       5.695       5.910\n",
       "c              0.6205      0.063      9.887      0.000       0.459       0.782\n",
       "T              1.4330      0.063     22.832      0.000       1.272       1.594\n",
       "c:T            0.2779      0.063      4.428      0.007       0.117       0.439\n",
       "==============================================================================\n",
       "Omnibus:                        7.690   Durbin-Watson:                   1.085\n",
       "Prob(Omnibus):                  0.021   Jarque-Bera (JB):                3.108\n",
       "Skew:                          -1.408   Prob(JB):                        0.211\n",
       "Kurtosis:                       3.595   Cond. No.                         1.50\n",
       "==============================================================================\n",
       "\n",
       "Notes:\n",
       "[1] Standard Errors assume that the covariance matrix of the errors is correctly specified.\n",
       "\"\"\""
      ]
     },
     "execution_count": 7,
     "metadata": {},
     "output_type": "execute_result"
    }
   ],
   "source": [
    "y1 = results['y']\n",
    "xlabs=['c','T']\n",
    "x = results[xlabs]\n",
    "\n",
    "\n",
    "res1 = smf.ols(formula='y ~ c + T + c:T', data=results).fit()\n",
    "\n",
    "res1.summary()"
   ]
  },
  {
   "cell_type": "code",
   "execution_count": 18,
   "metadata": {},
   "outputs": [
    {
     "name": "stdout",
     "output_type": "stream",
     "text": [
      "                            OLS Regression Results                            \n",
      "==============================================================================\n",
      "Dep. Variable:                      y   R-squared:                       0.962\n",
      "Model:                            OLS   Adj. R-squared:                  0.949\n",
      "Method:                 Least Squares   F-statistic:                     75.48\n",
      "Date:                Tue, 08 Oct 2024   Prob (F-statistic):           5.59e-05\n",
      "Time:                        09:27:07   Log-Likelihood:                 1.3812\n",
      "No. Observations:                   9   AIC:                             3.238\n",
      "Df Residuals:                       6   BIC:                             3.829\n",
      "Df Model:                           2                                         \n",
      "Covariance Type:            nonrobust                                         \n",
      "==============================================================================\n",
      "                 coef    std err          t      P>|t|      [0.025      0.975]\n",
      "------------------------------------------------------------------------------\n",
      "Intercept      5.8025      0.085     68.482      0.000       5.595       6.010\n",
      "c              0.6205      0.127      4.882      0.003       0.310       0.932\n",
      "T              1.4330      0.127     11.275      0.000       1.122       1.744\n",
      "==============================================================================\n",
      "Omnibus:                        1.302   Durbin-Watson:                   2.044\n",
      "Prob(Omnibus):                  0.522   Jarque-Bera (JB):                0.930\n",
      "Skew:                           0.632   Prob(JB):                        0.628\n",
      "Kurtosis:                       2.062   Cond. No.                         1.50\n",
      "==============================================================================\n",
      "\n",
      "Notes:\n",
      "[1] Standard Errors assume that the covariance matrix of the errors is correctly specified.\n"
     ]
    },
    {
     "name": "stderr",
     "output_type": "stream",
     "text": [
      "/home/oscar/miniconda3/envs/dhenv/lib/python3.10/site-packages/scipy/stats/_axis_nan_policy.py:418: UserWarning: `kurtosistest` p-value may be inaccurate with fewer than 20 observations; only n=9 observations were given.\n",
      "  return hypotest_fun_in(*args, **kwds)\n"
     ]
    }
   ],
   "source": [
    "#est1 = sm.OLS(y1,x).fit()\n",
    "res1 = smf.ols(formula='y ~ c + T', data=results).fit()\n",
    "print(res1.summary())"
   ]
  },
  {
   "cell_type": "markdown",
   "metadata": {},
   "source": [
    "ybar = 5.8025 + 0.6205\\*c + 1.4330\\*T"
   ]
  },
  {
   "cell_type": "code",
   "execution_count": 9,
   "metadata": {},
   "outputs": [
    {
     "data": {
      "text/plain": [
       "7.856"
      ]
     },
     "execution_count": 9,
     "metadata": {},
     "output_type": "execute_result"
    }
   ],
   "source": [
    "def ybar(c,T):\n",
    "    return 5.8025 + 0.6205*c + 1.4330*T\n",
    "\n",
    "# 40.444 + 0.775t + 0.325T\n",
    "\n",
    "y = ybar(1,1)\n",
    "y"
   ]
  },
  {
   "cell_type": "code",
   "execution_count": 21,
   "metadata": {},
   "outputs": [
    {
     "name": "stdout",
     "output_type": "stream",
     "text": [
      "        low  center  high          label\n",
      "index                                   \n",
      "c       2.0     2.0   2.8  concentration\n",
      "T      25.0    25.0  35.0    Temperature\n",
      "0    2.0\n",
      "1    2.8\n",
      "2    2.0\n",
      "3    2.8\n",
      "4    2.0\n",
      "5    2.0\n",
      "6    2.0\n",
      "7    2.0\n",
      "8    2.0\n",
      "Name: concentration, dtype: float64\n",
      "0    25.0\n",
      "1    25.0\n",
      "2    35.0\n",
      "3    35.0\n",
      "4    25.0\n",
      "5    25.0\n",
      "6    25.0\n",
      "7    25.0\n",
      "8    25.0\n",
      "Name: Temperature, dtype: float64\n"
     ]
    }
   ],
   "source": [
    "# Create a list of tuples with each variable's low, center, and high values\n",
    "dat = [\n",
    "    ('c', 1.0 * c, c, 1.40 * c),  # Concentration: low is 80% of c, center is c, high is 120% of c\n",
    "    ('T', 1.0 * T, T, 1.40 * T)    # Temperature: low is 80% of T, center is T, high is 120% of T\n",
    "]\n",
    "\n",
    "# Create a Pandas DataFrame from the data list, specifying the column names\n",
    "inputs_df = pd.DataFrame(dat, columns=['index', 'low', 'center', 'high'])\n",
    "\n",
    "# Set the 'index' column as the DataFrame index for easier access\n",
    "inputs_df = inputs_df.set_index('index')\n",
    "\n",
    "# Map the variable labels to the DataFrame index, providing a default empty string for unmapped values\n",
    "inputs_df['label'] = inputs_df.index.map(lambda z: inputs_labels.get(z, ''))\n",
    "\n",
    "# Print the resulting DataFrame to display its contents\n",
    "print(inputs_df)\n",
    "\n",
    "from computing import computing\n",
    "\n",
    "real_experiment, results = computing(inputs_df)\n",
    "\n",
    "c_array  = real_experiment['concentration']\n",
    "T_array = real_experiment['Temperature']\n",
    "\n",
    "print(c_array)\n",
    "print(T_array)\n",
    "\n",
    "c = [2.0, 2.8, 2.0, 2.8, 2.0, 2.0, 2.0, 2.0, 2.0]\n",
    "T = [25.0, 25.0, 35.0, 35.0, 25.0, 25.0, 25.0, 25.0, 25.0]\n"
   ]
  },
  {
   "cell_type": "code",
   "execution_count": 10,
   "metadata": {},
   "outputs": [
    {
     "ename": "PatsyError",
     "evalue": "predict requires that you use a DataFrame when predicting from a model\nthat was created using the formula api.\n\nThe original error message returned by patsy is:\nNumber of rows mismatch between data argument and c (12 versus 1)\n    y ~ c + T\n        ^",
     "output_type": "error",
     "traceback": [
      "\u001b[0;31m---------------------------------------------------------------------------\u001b[0m",
      "\u001b[0;31mPatsyError\u001b[0m                                Traceback (most recent call last)",
      "File \u001b[0;32m~/miniconda3/envs/dhenv/lib/python3.10/site-packages/statsmodels/base/model.py:1102\u001b[0m, in \u001b[0;36mResults._transform_predict_exog\u001b[0;34m(self, exog, transform)\u001b[0m\n\u001b[1;32m   1101\u001b[0m \u001b[38;5;28;01mtry\u001b[39;00m:\n\u001b[0;32m-> 1102\u001b[0m     exog \u001b[38;5;241m=\u001b[39m \u001b[43mdmatrix\u001b[49m\u001b[43m(\u001b[49m\u001b[43mdesign_info\u001b[49m\u001b[43m,\u001b[49m\u001b[43m \u001b[49m\u001b[43mexog\u001b[49m\u001b[43m,\u001b[49m\u001b[43m \u001b[49m\u001b[43mreturn_type\u001b[49m\u001b[38;5;241;43m=\u001b[39;49m\u001b[38;5;124;43m\"\u001b[39;49m\u001b[38;5;124;43mdataframe\u001b[39;49m\u001b[38;5;124;43m\"\u001b[39;49m\u001b[43m)\u001b[49m\n\u001b[1;32m   1103\u001b[0m \u001b[38;5;28;01mexcept\u001b[39;00m \u001b[38;5;167;01mException\u001b[39;00m \u001b[38;5;28;01mas\u001b[39;00m exc:\n",
      "File \u001b[0;32m~/miniconda3/envs/dhenv/lib/python3.10/site-packages/patsy/highlevel.py:290\u001b[0m, in \u001b[0;36mdmatrix\u001b[0;34m(formula_like, data, eval_env, NA_action, return_type)\u001b[0m\n\u001b[1;32m    289\u001b[0m eval_env \u001b[38;5;241m=\u001b[39m EvalEnvironment\u001b[38;5;241m.\u001b[39mcapture(eval_env, reference\u001b[38;5;241m=\u001b[39m\u001b[38;5;241m1\u001b[39m)\n\u001b[0;32m--> 290\u001b[0m (lhs, rhs) \u001b[38;5;241m=\u001b[39m \u001b[43m_do_highlevel_design\u001b[49m\u001b[43m(\u001b[49m\u001b[43mformula_like\u001b[49m\u001b[43m,\u001b[49m\u001b[43m \u001b[49m\u001b[43mdata\u001b[49m\u001b[43m,\u001b[49m\u001b[43m \u001b[49m\u001b[43meval_env\u001b[49m\u001b[43m,\u001b[49m\n\u001b[1;32m    291\u001b[0m \u001b[43m                                  \u001b[49m\u001b[43mNA_action\u001b[49m\u001b[43m,\u001b[49m\u001b[43m \u001b[49m\u001b[43mreturn_type\u001b[49m\u001b[43m)\u001b[49m\n\u001b[1;32m    292\u001b[0m \u001b[38;5;28;01mif\u001b[39;00m lhs\u001b[38;5;241m.\u001b[39mshape[\u001b[38;5;241m1\u001b[39m] \u001b[38;5;241m!=\u001b[39m \u001b[38;5;241m0\u001b[39m:\n",
      "File \u001b[0;32m~/miniconda3/envs/dhenv/lib/python3.10/site-packages/patsy/highlevel.py:167\u001b[0m, in \u001b[0;36m_do_highlevel_design\u001b[0;34m(formula_like, data, eval_env, NA_action, return_type)\u001b[0m\n\u001b[1;32m    166\u001b[0m \u001b[38;5;28;01mif\u001b[39;00m design_infos \u001b[38;5;129;01mis\u001b[39;00m \u001b[38;5;129;01mnot\u001b[39;00m \u001b[38;5;28;01mNone\u001b[39;00m:\n\u001b[0;32m--> 167\u001b[0m     \u001b[38;5;28;01mreturn\u001b[39;00m \u001b[43mbuild_design_matrices\u001b[49m\u001b[43m(\u001b[49m\u001b[43mdesign_infos\u001b[49m\u001b[43m,\u001b[49m\u001b[43m \u001b[49m\u001b[43mdata\u001b[49m\u001b[43m,\u001b[49m\n\u001b[1;32m    168\u001b[0m \u001b[43m                                 \u001b[49m\u001b[43mNA_action\u001b[49m\u001b[38;5;241;43m=\u001b[39;49m\u001b[43mNA_action\u001b[49m\u001b[43m,\u001b[49m\n\u001b[1;32m    169\u001b[0m \u001b[43m                                 \u001b[49m\u001b[43mreturn_type\u001b[49m\u001b[38;5;241;43m=\u001b[39;49m\u001b[43mreturn_type\u001b[49m\u001b[43m)\u001b[49m\n\u001b[1;32m    170\u001b[0m \u001b[38;5;28;01melse\u001b[39;00m:\n\u001b[1;32m    171\u001b[0m     \u001b[38;5;66;03m# No builders, but maybe we can still get matrices\u001b[39;00m\n",
      "File \u001b[0;32m~/miniconda3/envs/dhenv/lib/python3.10/site-packages/patsy/build.py:893\u001b[0m, in \u001b[0;36mbuild_design_matrices\u001b[0;34m(design_infos, data, NA_action, return_type, dtype)\u001b[0m\n\u001b[1;32m    892\u001b[0m origin \u001b[38;5;241m=\u001b[39m factor_info\u001b[38;5;241m.\u001b[39mfactor\u001b[38;5;241m.\u001b[39morigin\n\u001b[0;32m--> 893\u001b[0m \u001b[43mrows_checker\u001b[49m\u001b[38;5;241;43m.\u001b[39;49m\u001b[43mcheck\u001b[49m\u001b[43m(\u001b[49m\u001b[43mvalue\u001b[49m\u001b[38;5;241;43m.\u001b[39;49m\u001b[43mshape\u001b[49m\u001b[43m[\u001b[49m\u001b[38;5;241;43m0\u001b[39;49m\u001b[43m]\u001b[49m\u001b[43m,\u001b[49m\u001b[43m \u001b[49m\u001b[43mname\u001b[49m\u001b[43m,\u001b[49m\u001b[43m \u001b[49m\u001b[43morigin\u001b[49m\u001b[43m)\u001b[49m\n\u001b[1;32m    894\u001b[0m \u001b[38;5;28;01mif\u001b[39;00m (have_pandas\n\u001b[1;32m    895\u001b[0m     \u001b[38;5;129;01mand\u001b[39;00m \u001b[38;5;28misinstance\u001b[39m(value, (pandas\u001b[38;5;241m.\u001b[39mSeries, pandas\u001b[38;5;241m.\u001b[39mDataFrame))):\n",
      "File \u001b[0;32m~/miniconda3/envs/dhenv/lib/python3.10/site-packages/patsy/build.py:795\u001b[0m, in \u001b[0;36m_CheckMatch.check\u001b[0;34m(self, seen_value, desc, origin)\u001b[0m\n\u001b[1;32m    793\u001b[0m \u001b[38;5;66;03m# XX FIXME: this is a case where having discontiguous Origins\u001b[39;00m\n\u001b[1;32m    794\u001b[0m \u001b[38;5;66;03m# would be useful...\u001b[39;00m\n\u001b[0;32m--> 795\u001b[0m \u001b[38;5;28;01mraise\u001b[39;00m PatsyError(msg, origin)\n",
      "\u001b[0;31mPatsyError\u001b[0m: Number of rows mismatch between data argument and c (12 versus 1)\n    y ~ c + T\n        ^",
      "\nDuring handling of the above exception, another exception occurred:\n",
      "\u001b[0;31mPatsyError\u001b[0m                                Traceback (most recent call last)",
      "Cell \u001b[0;32mIn[10], line 10\u001b[0m\n\u001b[1;32m      7\u001b[0m     march\u001b[38;5;241m.\u001b[39mappend((Origin[\u001b[38;5;241m0\u001b[39m]\u001b[38;5;241m+\u001b[39m(i\u001b[38;5;241m+\u001b[39m\u001b[38;5;241m1\u001b[39m)\u001b[38;5;241m*\u001b[39mdelta[\u001b[38;5;241m0\u001b[39m],Origin[\u001b[38;5;241m1\u001b[39m]\u001b[38;5;241m+\u001b[39m(i\u001b[38;5;241m+\u001b[39m\u001b[38;5;241m1\u001b[39m)\u001b[38;5;241m*\u001b[39mdelta[\u001b[38;5;241m1\u001b[39m]))\n\u001b[1;32m      9\u001b[0m March\u001b[38;5;241m=\u001b[39mpd\u001b[38;5;241m.\u001b[39mDataFrame(march,columns\u001b[38;5;241m=\u001b[39m[\u001b[38;5;124m'\u001b[39m\u001b[38;5;124mt\u001b[39m\u001b[38;5;124m'\u001b[39m, \u001b[38;5;124m'\u001b[39m\u001b[38;5;124mT\u001b[39m\u001b[38;5;124m'\u001b[39m])\n\u001b[0;32m---> 10\u001b[0m ypred\u001b[38;5;241m=\u001b[39m\u001b[43mres1\u001b[49m\u001b[38;5;241;43m.\u001b[39;49m\u001b[43mpredict\u001b[49m\u001b[43m(\u001b[49m\u001b[43mMarch\u001b[49m\u001b[43m)\u001b[49m\n\u001b[1;32m     12\u001b[0m March[\u001b[38;5;124m'\u001b[39m\u001b[38;5;124my\u001b[39m\u001b[38;5;124m'\u001b[39m]\u001b[38;5;241m=\u001b[39my\n\u001b[1;32m     13\u001b[0m March[\u001b[38;5;124m'\u001b[39m\u001b[38;5;124mypred\u001b[39m\u001b[38;5;124m'\u001b[39m]\u001b[38;5;241m=\u001b[39mypred\n",
      "File \u001b[0;32m~/miniconda3/envs/dhenv/lib/python3.10/site-packages/statsmodels/base/model.py:1171\u001b[0m, in \u001b[0;36mResults.predict\u001b[0;34m(self, exog, transform, *args, **kwargs)\u001b[0m\n\u001b[1;32m   1126\u001b[0m \u001b[38;5;28;01mdef\u001b[39;00m \u001b[38;5;21mpredict\u001b[39m(\u001b[38;5;28mself\u001b[39m, exog\u001b[38;5;241m=\u001b[39m\u001b[38;5;28;01mNone\u001b[39;00m, transform\u001b[38;5;241m=\u001b[39m\u001b[38;5;28;01mTrue\u001b[39;00m, \u001b[38;5;241m*\u001b[39margs, \u001b[38;5;241m*\u001b[39m\u001b[38;5;241m*\u001b[39mkwargs):\n\u001b[1;32m   1127\u001b[0m \u001b[38;5;250m    \u001b[39m\u001b[38;5;124;03m\"\"\"\u001b[39;00m\n\u001b[1;32m   1128\u001b[0m \u001b[38;5;124;03m    Call self.model.predict with self.params as the first argument.\u001b[39;00m\n\u001b[1;32m   1129\u001b[0m \n\u001b[0;32m   (...)\u001b[0m\n\u001b[1;32m   1169\u001b[0m \u001b[38;5;124;03m    returned prediction.\u001b[39;00m\n\u001b[1;32m   1170\u001b[0m \u001b[38;5;124;03m    \"\"\"\u001b[39;00m\n\u001b[0;32m-> 1171\u001b[0m     exog, exog_index \u001b[38;5;241m=\u001b[39m \u001b[38;5;28;43mself\u001b[39;49m\u001b[38;5;241;43m.\u001b[39;49m\u001b[43m_transform_predict_exog\u001b[49m\u001b[43m(\u001b[49m\u001b[43mexog\u001b[49m\u001b[43m,\u001b[49m\n\u001b[1;32m   1172\u001b[0m \u001b[43m                                                    \u001b[49m\u001b[43mtransform\u001b[49m\u001b[38;5;241;43m=\u001b[39;49m\u001b[43mtransform\u001b[49m\u001b[43m)\u001b[49m\n\u001b[1;32m   1174\u001b[0m     predict_results \u001b[38;5;241m=\u001b[39m \u001b[38;5;28mself\u001b[39m\u001b[38;5;241m.\u001b[39mmodel\u001b[38;5;241m.\u001b[39mpredict(\u001b[38;5;28mself\u001b[39m\u001b[38;5;241m.\u001b[39mparams, exog, \u001b[38;5;241m*\u001b[39margs,\n\u001b[1;32m   1175\u001b[0m                                          \u001b[38;5;241m*\u001b[39m\u001b[38;5;241m*\u001b[39mkwargs)\n\u001b[1;32m   1177\u001b[0m     \u001b[38;5;28;01mif\u001b[39;00m exog_index \u001b[38;5;129;01mis\u001b[39;00m \u001b[38;5;129;01mnot\u001b[39;00m \u001b[38;5;28;01mNone\u001b[39;00m \u001b[38;5;129;01mand\u001b[39;00m \u001b[38;5;129;01mnot\u001b[39;00m \u001b[38;5;28mhasattr\u001b[39m(predict_results,\n\u001b[1;32m   1178\u001b[0m                                               \u001b[38;5;124m'\u001b[39m\u001b[38;5;124mpredicted_values\u001b[39m\u001b[38;5;124m'\u001b[39m):\n",
      "File \u001b[0;32m~/miniconda3/envs/dhenv/lib/python3.10/site-packages/statsmodels/base/model.py:1109\u001b[0m, in \u001b[0;36mResults._transform_predict_exog\u001b[0;34m(self, exog, transform)\u001b[0m\n\u001b[1;32m   1103\u001b[0m \u001b[38;5;28;01mexcept\u001b[39;00m \u001b[38;5;167;01mException\u001b[39;00m \u001b[38;5;28;01mas\u001b[39;00m exc:\n\u001b[1;32m   1104\u001b[0m     msg \u001b[38;5;241m=\u001b[39m (\u001b[38;5;124m'\u001b[39m\u001b[38;5;124mpredict requires that you use a DataFrame when \u001b[39m\u001b[38;5;124m'\u001b[39m\n\u001b[1;32m   1105\u001b[0m            \u001b[38;5;124m'\u001b[39m\u001b[38;5;124mpredicting from a model\u001b[39m\u001b[38;5;130;01m\\n\u001b[39;00m\u001b[38;5;124mthat was created using the \u001b[39m\u001b[38;5;124m'\u001b[39m\n\u001b[1;32m   1106\u001b[0m            \u001b[38;5;124m'\u001b[39m\u001b[38;5;124mformula api.\u001b[39m\u001b[38;5;124m'\u001b[39m\n\u001b[1;32m   1107\u001b[0m            \u001b[38;5;124m'\u001b[39m\u001b[38;5;130;01m\\n\u001b[39;00m\u001b[38;5;130;01m\\n\u001b[39;00m\u001b[38;5;124mThe original error message returned by patsy is:\u001b[39m\u001b[38;5;130;01m\\n\u001b[39;00m\u001b[38;5;124m'\u001b[39m\n\u001b[1;32m   1108\u001b[0m            \u001b[38;5;124m'\u001b[39m\u001b[38;5;132;01m{}\u001b[39;00m\u001b[38;5;124m'\u001b[39m\u001b[38;5;241m.\u001b[39mformat(\u001b[38;5;28mstr\u001b[39m(\u001b[38;5;28mstr\u001b[39m(exc))))\n\u001b[0;32m-> 1109\u001b[0m     \u001b[38;5;28;01mraise\u001b[39;00m exc\u001b[38;5;241m.\u001b[39m\u001b[38;5;18m__class__\u001b[39m(msg)\n\u001b[1;32m   1110\u001b[0m \u001b[38;5;28;01mif\u001b[39;00m orig_exog_len \u001b[38;5;241m>\u001b[39m \u001b[38;5;28mlen\u001b[39m(exog) \u001b[38;5;129;01mand\u001b[39;00m \u001b[38;5;129;01mnot\u001b[39;00m is_dict:\n\u001b[1;32m   1111\u001b[0m     \u001b[38;5;28;01mif\u001b[39;00m exog_index \u001b[38;5;129;01mis\u001b[39;00m \u001b[38;5;28;01mNone\u001b[39;00m:\n",
      "\u001b[0;31mPatsyError\u001b[0m: predict requires that you use a DataFrame when predicting from a model\nthat was created using the formula api.\n\nThe original error message returned by patsy is:\nNumber of rows mismatch between data argument and c (12 versus 1)\n    y ~ c + T\n        ^"
     ]
    }
   ],
   "source": [
    "Origin = [0,0]\n",
    "delta= [1.0, 1.4330/0.6205]\n",
    "y=[41.0,42.9,47.1,49.7,53.8,59.9,65.0,70.4,77.6,80.3,76.2,75.1]\n",
    "\n",
    "march=[]\n",
    "for i in range(0,len(y)):\n",
    "    march.append((Origin[0]+(i+1)*delta[0],Origin[1]+(i+1)*delta[1]))\n",
    "\n",
    "March=pd.DataFrame(march,columns=['t', 'T'])\n",
    "ypred=res1.predict(March)\n",
    "\n",
    "March['y']=y\n",
    "March['ypred']=ypred\n",
    "\n",
    "March"
   ]
  },
  {
   "cell_type": "code",
   "execution_count": 49,
   "metadata": {},
   "outputs": [
    {
     "ename": "NameError",
     "evalue": "name 'March' is not defined",
     "output_type": "error",
     "traceback": [
      "\u001b[0;31m---------------------------------------------------------------------------\u001b[0m",
      "\u001b[0;31mNameError\u001b[0m                                 Traceback (most recent call last)",
      "Cell \u001b[0;32mIn[49], line 3\u001b[0m\n\u001b[1;32m      1\u001b[0m \u001b[38;5;66;03m# Plotting data for the 'March' DataFrame\u001b[39;00m\n\u001b[1;32m      2\u001b[0m \u001b[38;5;66;03m# The plot shows actual data ('y') and predicted data ('ypred')\u001b[39;00m\n\u001b[0;32m----> 3\u001b[0m ax\u001b[38;5;241m=\u001b[39m\u001b[43mMarch\u001b[49m[\u001b[38;5;124m'\u001b[39m\u001b[38;5;124my\u001b[39m\u001b[38;5;124m'\u001b[39m]\u001b[38;5;241m.\u001b[39mplot()\n\u001b[1;32m      4\u001b[0m ax\u001b[38;5;241m=\u001b[39mMarch[\u001b[38;5;124m'\u001b[39m\u001b[38;5;124mypred\u001b[39m\u001b[38;5;124m'\u001b[39m]\u001b[38;5;241m.\u001b[39mplot()\n\u001b[1;32m      5\u001b[0m ax\u001b[38;5;241m.\u001b[39mset_xlabel(\u001b[38;5;124m'\u001b[39m\u001b[38;5;124mstep\u001b[39m\u001b[38;5;124m'\u001b[39m)  \u001b[38;5;66;03m# Set x-axis label as 'step'\u001b[39;00m\n",
      "\u001b[0;31mNameError\u001b[0m: name 'March' is not defined"
     ]
    }
   ],
   "source": [
    "# Plotting data for the 'March' DataFrame\n",
    "# The plot shows actual data ('y') and predicted data ('ypred')\n",
    "ax=March['y'].plot()\n",
    "ax=March['ypred'].plot()\n",
    "ax.set_xlabel('step')  # Set x-axis label as 'step'\n",
    "ax.set_ylabel('Yield')  # Set y-axis label as 'Yield'\n"
   ]
  },
  {
   "cell_type": "code",
   "execution_count": null,
   "metadata": {},
   "outputs": [],
   "source": [
    "# Plotting data for the 'March' DataFrame\n",
    "# The plot shows actual data ('y') and predicted data ('ypred')\n",
    "ax=March['y'].plot()\n",
    "ax=March['ypred'].plot()\n",
    "ax.set_xlabel('step')  # Set x-axis label as 'step'\n",
    "ax.set_ylabel('Yield')  # Set y-axis label as 'Yield'\n"
   ]
  }
 ],
 "metadata": {
  "kernelspec": {
   "display_name": "dhenv",
   "language": "python",
   "name": "python3"
  },
  "language_info": {
   "codemirror_mode": {
    "name": "ipython",
    "version": 3
   },
   "file_extension": ".py",
   "mimetype": "text/x-python",
   "name": "python",
   "nbconvert_exporter": "python",
   "pygments_lexer": "ipython3",
   "version": "3.10.15"
  }
 },
 "nbformat": 4,
 "nbformat_minor": 2
}
